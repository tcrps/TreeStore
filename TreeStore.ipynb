{
 "cells": [
  {
   "cell_type": "markdown",
   "id": "06eb4bb4-8b99-4d5f-9a4b-9fe157319be4",
   "metadata": {},
   "source": [
    "<h1>TreeStore</h1>"
   ]
  },
  {
   "cell_type": "markdown",
   "id": "f7068f86-c0de-4dd3-ae53-cb1b7079fc53",
   "metadata": {},
   "source": [
    "<h2>Задание</h2>\n",
    "\n",
    "Дан массив объектов, имеющих поля id и parent, которые позволяют связать объекты массива в древовидную структуру данных.\n",
    "\n",
    "Необходимо написать класс, принимающий в конструктор массив данных объектов и включающий 4 метода:\n",
    "<ol>\n",
    "    <li><b>getAll()</b> - возвращает изначальный массив элементов;</li>\n",
    "    <li><b>getItem(id)</b> - принимает id элемента и возвращает сам объект элемента;</li>\n",
    "    <li><b>getChildren(id)</b> - принимает id элемента и возвращает массив элементов, являющихся дочерними для заданного элемента;</li>\n",
    "    <li><b>getAllParents(id)</b> - принимает id элемента и возвращает массив из цепочки родительских элементов, начиная с заданного элемента, заканчивая корневым элементом дерева.</li>\n",
    "</ol>"
   ]
  },
  {
   "cell_type": "markdown",
   "id": "63ecfde9-1a77-4f3e-a13d-a7fec29722e5",
   "metadata": {},
   "source": [
    "<h2>Требования</h2>\n",
    "Максимальное быстродействие, минимальное количество обходов массива при операциях. В идеале прямой доступ к элементам без поиска их в массиве."
   ]
  },
  {
   "cell_type": "markdown",
   "id": "0db535e7-8fd3-4c05-85dc-71c309525c53",
   "metadata": {},
   "source": [
    "<h2>Реализация</h2>"
   ]
  },
  {
   "cell_type": "code",
   "execution_count": 212,
   "id": "7904cee4-a832-4fab-974c-74e888148efe",
   "metadata": {},
   "outputs": [],
   "source": [
    "class TreeStore():\n",
    "    def __init__(self, items):\n",
    "        self.items = items\n",
    "\n",
    "    def getAll(self):\n",
    "        return items\n",
    "\n",
    "    def getItem(self, id):\n",
    "        #for i in items:\n",
    "        #    if i['id'] == id:\n",
    "        #        return i  \n",
    "        return list(filter(lambda items: items['id'] == id, items))[0]\n",
    "\n",
    "    def getChildren(self, id):\n",
    "        #children = list()\n",
    "        #\n",
    "        #    if i['parent'] == id:\n",
    "        #        children.append(i)\n",
    "        #        \n",
    "        #return children\n",
    "        return list(filter(lambda items: items['parent'] == id, items))\n",
    "\n",
    "    def getAllParents(self, id):\n",
    "        parents = list()\n",
    "        item = self.getItem(id)\n",
    "        \n",
    "        while item['parent'] != 'root':\n",
    "            item = self.getItem(item['parent'])\n",
    "            parents.append(item)\n",
    "            \n",
    "        return parents\n",
    "        "
   ]
  },
  {
   "cell_type": "markdown",
   "id": "b5bb1877-44cb-47b2-b858-5fc74392430c",
   "metadata": {},
   "source": [
    "<h2>Примеры использования</h2>"
   ]
  },
  {
   "cell_type": "markdown",
   "id": "dcbb950f-5f51-4e77-9987-e189bcfced6a",
   "metadata": {},
   "source": [
    "<h3>Исходные данные</h3>"
   ]
  },
  {
   "cell_type": "code",
   "execution_count": 213,
   "id": "7dcbd7be-4ffb-4025-a523-522522ee3639",
   "metadata": {},
   "outputs": [],
   "source": [
    "items = [\n",
    "    {'id': 1, 'parent': 'root'},\n",
    "    {'id': 2, 'parent': 1, 'type': 'test'},\n",
    "    {'id': 3, 'parent': 1, 'type': 'test'},\n",
    "    {'id': 4, 'parent': 2, 'type': 'test'},\n",
    "    {'id': 5, 'parent': 2, 'type': 'test'},\n",
    "    {'id': 6, 'parent': 2, 'type': 'test'},\n",
    "    {'id': 7, 'parent': 4, 'type': 'None'},\n",
    "    {'id': 8, 'parent': 4, 'type': 'None'}\n",
    "]"
   ]
  },
  {
   "cell_type": "code",
   "execution_count": 214,
   "id": "32afe792-cce9-4b2c-a385-f27c3643734c",
   "metadata": {},
   "outputs": [],
   "source": [
    "ts = TreeStore(items)"
   ]
  },
  {
   "cell_type": "markdown",
   "id": "c078024d-a45f-4306-a4eb-ea57b40ae8f5",
   "metadata": {},
   "source": [
    "<h3>1. Вывод всех элементов массива</h3>"
   ]
  },
  {
   "cell_type": "code",
   "execution_count": 215,
   "id": "fedce392-b515-4a10-a2cb-31773d0e19f8",
   "metadata": {},
   "outputs": [
    {
     "data": {
      "text/plain": [
       "[{'id': 1, 'parent': 'root'},\n",
       " {'id': 2, 'parent': 1, 'type': 'test'},\n",
       " {'id': 3, 'parent': 1, 'type': 'test'},\n",
       " {'id': 4, 'parent': 2, 'type': 'test'},\n",
       " {'id': 5, 'parent': 2, 'type': 'test'},\n",
       " {'id': 6, 'parent': 2, 'type': 'test'},\n",
       " {'id': 7, 'parent': 4, 'type': 'None'},\n",
       " {'id': 8, 'parent': 4, 'type': 'None'}]"
      ]
     },
     "execution_count": 215,
     "metadata": {},
     "output_type": "execute_result"
    }
   ],
   "source": [
    "ts.getAll()"
   ]
  },
  {
   "cell_type": "markdown",
   "id": "c5805d68-6260-499d-8c67-20d0f343bdb4",
   "metadata": {},
   "source": [
    "<h3>2. Вывод элемента массива под номером 7</h3>"
   ]
  },
  {
   "cell_type": "code",
   "execution_count": 216,
   "id": "827bd13d-1daa-4269-b422-1fd82a16a4ba",
   "metadata": {},
   "outputs": [
    {
     "data": {
      "text/plain": [
       "{'id': 7, 'parent': 4, 'type': 'None'}"
      ]
     },
     "execution_count": 216,
     "metadata": {},
     "output_type": "execute_result"
    }
   ],
   "source": [
    "ts.getItem(7)"
   ]
  },
  {
   "cell_type": "markdown",
   "id": "24274710-72cb-4961-b804-013f987b82c9",
   "metadata": {},
   "source": [
    "<h3>3. Вывод дочерних элементов для элемента под номером 4</h3>"
   ]
  },
  {
   "cell_type": "code",
   "execution_count": 217,
   "id": "2a7caedd-7e01-4ebb-a6b7-b258278769b6",
   "metadata": {},
   "outputs": [
    {
     "data": {
      "text/plain": [
       "[{'id': 7, 'parent': 4, 'type': 'None'},\n",
       " {'id': 8, 'parent': 4, 'type': 'None'}]"
      ]
     },
     "execution_count": 217,
     "metadata": {},
     "output_type": "execute_result"
    }
   ],
   "source": [
    "ts.getChildren(4)"
   ]
  },
  {
   "cell_type": "markdown",
   "id": "de4bca07-55b4-44c0-8e9d-2d1e7951b3d0",
   "metadata": {},
   "source": [
    "<h3>4. Вывод дочерних элементов для элемента под номером 5</h3>"
   ]
  },
  {
   "cell_type": "code",
   "execution_count": 218,
   "id": "d950b453-e682-490b-93e0-20a1805f50c1",
   "metadata": {},
   "outputs": [
    {
     "data": {
      "text/plain": [
       "[]"
      ]
     },
     "execution_count": 218,
     "metadata": {},
     "output_type": "execute_result"
    }
   ],
   "source": [
    "ts.getChildren(5)"
   ]
  },
  {
   "cell_type": "markdown",
   "id": "a8d5f9b8-de3f-4a9f-9253-25def8611a03",
   "metadata": {},
   "source": [
    "<h3>5. Вывод родительских элементов для элемента под номером 7</h3>"
   ]
  },
  {
   "cell_type": "code",
   "execution_count": 219,
   "id": "aec7a048-5670-4db9-a773-e227299ed78f",
   "metadata": {},
   "outputs": [
    {
     "data": {
      "text/plain": [
       "[{'id': 4, 'parent': 2, 'type': 'test'},\n",
       " {'id': 2, 'parent': 1, 'type': 'test'},\n",
       " {'id': 1, 'parent': 'root'}]"
      ]
     },
     "execution_count": 219,
     "metadata": {},
     "output_type": "execute_result"
    }
   ],
   "source": [
    "ts.getAllParents(7)"
   ]
  }
 ],
 "metadata": {
  "kernelspec": {
   "display_name": "Python 3 (ipykernel)",
   "language": "python",
   "name": "python3"
  },
  "language_info": {
   "codemirror_mode": {
    "name": "ipython",
    "version": 3
   },
   "file_extension": ".py",
   "mimetype": "text/x-python",
   "name": "python",
   "nbconvert_exporter": "python",
   "pygments_lexer": "ipython3",
   "version": "3.10.12"
  }
 },
 "nbformat": 4,
 "nbformat_minor": 5
}
